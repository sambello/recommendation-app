{
 "cells": [
  {
   "cell_type": "markdown",
   "id": "c5f15c35-c460-4f00-a8d7-c4af4e86fbd1",
   "metadata": {},
   "source": [
    "# Utilize a Playlist Summary Vector to Recommend another Playlist"
   ]
  },
  {
   "cell_type": "markdown",
   "id": "c4b430ee-8b39-42af-8afc-adc8d624c33d",
   "metadata": {
    "tags": []
   },
   "source": [
    "### Written by Rohan A. Rastogi "
   ]
  },
  {
   "cell_type": "markdown",
   "id": "49e491a8-6fa3-426b-82a6-1d182bf0ca3f",
   "metadata": {
    "tags": []
   },
   "source": [
    "####"
   ]
  },
  {
   "cell_type": "markdown",
   "id": "8db482e4-dd44-4d62-a102-af757dabb11e",
   "metadata": {},
   "source": [
    "# #Mothership"
   ]
  },
  {
   "cell_type": "markdown",
   "id": "89c3410d-5cda-4893-a78a-0391c349f13d",
   "metadata": {
    "tags": []
   },
   "source": [
    "## Imports"
   ]
  },
  {
   "cell_type": "code",
   "execution_count": 1,
   "id": "01040ac4-3b93-49c6-b7e6-744a8fe6bdbb",
   "metadata": {},
   "outputs": [],
   "source": [
    "import datetime"
   ]
  },
  {
   "cell_type": "code",
   "execution_count": 2,
   "id": "0cbad9b8-e518-4ef0-9296-fe3212c9c66e",
   "metadata": {},
   "outputs": [],
   "source": [
    "import glob"
   ]
  },
  {
   "cell_type": "code",
   "execution_count": 3,
   "id": "2304bba1-392b-41ef-b413-fbb9326d84a6",
   "metadata": {},
   "outputs": [],
   "source": [
    "import numpy"
   ]
  },
  {
   "cell_type": "code",
   "execution_count": 4,
   "id": "4fa59705-f47c-4047-82e7-f71d327b105a",
   "metadata": {},
   "outputs": [],
   "source": [
    "import pandas"
   ]
  },
  {
   "cell_type": "code",
   "execution_count": 5,
   "id": "17a19101-69a3-4a9d-8133-b4f514e7d451",
   "metadata": {},
   "outputs": [],
   "source": [
    "import psycopg2"
   ]
  },
  {
   "cell_type": "code",
   "execution_count": 6,
   "id": "9e14231d-a301-4762-b1f4-f0870819fcd4",
   "metadata": {},
   "outputs": [],
   "source": [
    "import re as regex"
   ]
  },
  {
   "cell_type": "code",
   "execution_count": 7,
   "id": "ef76c1a8-5e09-4ff5-a45d-56d4465b4143",
   "metadata": {},
   "outputs": [],
   "source": [
    "import boto3"
   ]
  },
  {
   "cell_type": "code",
   "execution_count": 8,
   "id": "34004aea-a53e-4c62-87fb-dd1ee0d1efeb",
   "metadata": {},
   "outputs": [],
   "source": [
    "import io"
   ]
  },
  {
   "cell_type": "markdown",
   "id": "aeb7e281-89f8-48dc-9991-5b459fdd7696",
   "metadata": {
    "tags": []
   },
   "source": [
    "#### "
   ]
  },
  {
   "cell_type": "markdown",
   "id": "eb5362de-4d27-4efd-a9c8-55976b4c9d51",
   "metadata": {},
   "source": [
    "## Settings"
   ]
  },
  {
   "cell_type": "code",
   "execution_count": 9,
   "id": "e6ffd8f9-6ff0-4694-92e0-2bf406c9ee0c",
   "metadata": {},
   "outputs": [],
   "source": [
    "from IPython.core.interactiveshell import InteractiveShell\n",
    "InteractiveShell.ast_node_interactivity = \"all\""
   ]
  },
  {
   "cell_type": "code",
   "execution_count": 10,
   "id": "950716f2-243e-41bd-8fab-973dccd0b6d4",
   "metadata": {},
   "outputs": [],
   "source": [
    "pandas.set_option('display.max_rows', 20)\n",
    "pandas.set_option('display.max_columns', 20)\n",
    "pandas.set_option('display.width', 2000)\n",
    "pandas.set_option('display.max_colwidth', None)\n",
    "pandas.set_option('display.max_seq_item', 20)\n",
    "pandas.set_option('display.show_dimensions', True)"
   ]
  },
  {
   "cell_type": "markdown",
   "id": "d43faf51-012b-4982-b57b-5dbb4375abca",
   "metadata": {},
   "source": [
    "#### "
   ]
  },
  {
   "cell_type": "markdown",
   "id": "933a2fbd-cb51-4645-9041-043e9d5e4015",
   "metadata": {
    "tags": []
   },
   "source": [
    "## Functions"
   ]
  },
  {
   "cell_type": "markdown",
   "id": "f32a3ae1-bbb8-4daf-a9e4-4e069f651436",
   "metadata": {},
   "source": [
    "#### Timestamp"
   ]
  },
  {
   "cell_type": "code",
   "execution_count": 11,
   "id": "b2c5988a-f7f6-427e-af23-77fadea6b8cd",
   "metadata": {},
   "outputs": [],
   "source": [
    "def timestamp():\n",
    "    return datetime.datetime.now().strftime(\"%H:%M:%S\")    "
   ]
  },
  {
   "cell_type": "markdown",
   "id": "eda709e2-01d0-4c4b-bfa2-3aec64fa9da3",
   "metadata": {
    "tags": []
   },
   "source": [
    "#### "
   ]
  },
  {
   "cell_type": "markdown",
   "id": "83931f22-9f4b-4b7f-a092-b66d278b05a2",
   "metadata": {},
   "source": [
    "#### Querying Warehouse"
   ]
  },
  {
   "cell_type": "code",
   "execution_count": 12,
   "id": "350e3f17-24bf-40fd-9063-707a3d304678",
   "metadata": {
    "tags": []
   },
   "outputs": [],
   "source": [
    "def connect_to_Warehouse():\n",
    "    \n",
    "    print('\\n\\nFunction connect_to_warehouse() invoked.')\n",
    "    print('This function programatically connects you to Warehouse via remotely accessing Amazon Redshift.')\n",
    "    \n",
    "    warehouse_username = 'rrastogi'\n",
    "    \n",
    "    warehouse_passwords = { \n",
    "        'Production' : 'w3KjyVAytp+sIqre' , \n",
    "        'Staging' : '3hejPazQDxrwXROk' }\n",
    "    \n",
    "    warehouse_hosts = { \n",
    "        'Production' : 'redshift-prod.remedypartners.com' , \n",
    "        'Staging' : 'redshift-stage.remedypartners.com' }\n",
    "    \n",
    "    warehouse_databases = { \n",
    "        'Production' : 'rmdyreppreporting' , \n",
    "        'Staging' : 'rmdyrepsreporting' }\n",
    "    \n",
    "    warehouse_port = '5439'\n",
    "    \n",
    "    environment_name = input(\"\\n\\nPlease enter 'Production' or 'Staging' to connect to Warehouse's Production or Staging environments respectively.\\n\\n\")\n",
    "    \n",
    "    try:\n",
    "        \n",
    "        warehouse_host = warehouse_hosts[environment_name]\n",
    "        warehouse_database = warehouse_databases[environment_name]\n",
    "        warehouse_password = warehouse_passwords[environment_name]\n",
    "        \n",
    "    except KeyError:\n",
    "        \n",
    "        print('\\n\\nFunction connect_to_warehouse() invocation failed to execute succesfully because you have not entered a name for a viable environment within Warehouse.')\n",
    "        \n",
    "    else:\n",
    "        \n",
    "        warehouse_connection = psycopg2.connect( \n",
    "            host = warehouse_host , \n",
    "            database = warehouse_database , \n",
    "            port = warehouse_port , \n",
    "            user = warehouse_username , \n",
    "            password = warehouse_password)\n",
    "        \n",
    "        warehouse_cursor = warehouse_connection.cursor()\n",
    "        \n",
    "        return(warehouse_connection, warehouse_cursor)\n",
    "        print('\\n\\n You are succesfully connected to Warehouse.\\n\\n')\n",
    "        \n",
    "    finally:\n",
    "        print()"
   ]
  },
  {
   "cell_type": "markdown",
   "id": "80d96a6f-cc85-4acd-b775-388c71354fc6",
   "metadata": {},
   "source": [
    "####"
   ]
  },
  {
   "cell_type": "markdown",
   "id": "b9344597-3b63-45bc-8b52-0c0f0dc31fa0",
   "metadata": {},
   "source": [
    "#### Loading Incremental Files from the Box"
   ]
  },
  {
   "cell_type": "code",
   "execution_count": 13,
   "id": "b8714495-e554-4b2c-a623-9f711a0d5d48",
   "metadata": {},
   "outputs": [],
   "source": [
    "def get_files_by_path(path):\n",
    "    list_of_files = glob.glob(path)\n",
    "    list_of_files.sort()\n",
    "    number_of_files = len(list_of_files)\n",
    "    print('\\n\\n', number_of_files, \"files located at\", path, '\\n\\n')\n",
    "    \n",
    "    for file in list_of_files:\n",
    "        print(file)\n",
    "        \n",
    "    return list_of_files"
   ]
  },
  {
   "cell_type": "code",
   "execution_count": 14,
   "id": "aea31867-b5fb-4033-83d5-d454f4812c23",
   "metadata": {},
   "outputs": [],
   "source": [
    "def load_incremental_files(incremental_files, columns_to_load, columns_to_sieve = [], sieve_nets = []): \n",
    "    \n",
    "    incremental_dataframes = [] \n",
    "    incremental_file_number = 0\n",
    "    \n",
    "    print('\\n\\nCommencing Data Loading from Incremental Files at', timestamp(),'\\n\\n')  \n",
    "    \n",
    "    for incremental_file in incremental_files:\n",
    "         \n",
    "        incremental_file_name = incremental_file.split('/')[my_index(-1)]\n",
    "        incremental_file_number += 1\n",
    "        \n",
    "        (incremental_file_year, incremental_file_month_number, incremental_file_week_number) = ( \n",
    "            incremental_file.split('/')[-1].split('_')[-3][my_range(my_index(1), my_index(2), 1)], \n",
    "            incremental_file.split('/')[-1].split('_')[-3][my_range(my_index(-2), my_index(-1), 1)], \n",
    "            incremental_file.split('/')[-1].split('_')[-2])   \n",
    "        \n",
    "        incremental_file_data = pandas.read_table( \n",
    "            incremental_file , \n",
    "            delimiter = '|' , \n",
    "            header = 0 , \n",
    "            dtype = str ,\n",
    "            engine = 'python' , \n",
    "            error_bad_lines = False ,\n",
    "            usecols = columns_to_load)\n",
    "\n",
    "        incremental_file_dataframe = incremetnal_file_data.loc[incremental_file_data.loc[:, columns_to_sieve].isin(sieve_nets), :].reset_index(drop = True)       \n",
    "        incremental_file_dataframe['Incremental File Name'] = incremental_file_name\n",
    "        incremental_file_dataframe['Incremental File (year, month number, week number)'] = '(' + incremental_file_year + ', ' + incremental_file_month_number + ', ' + incremental_file_week_number + ')'\n",
    "        incremental_file_dataframe_shape = file_dataframe.shape\n",
    "        incremental_file_timestamp = timestamp()\n",
    "                \n",
    "        print('Appending: \\t', 'File Name:', file_name, 'File Number:', file_number, '\\nDataframe Shape:', file_dataframe_shape, \" Timestamp:\", file_timestamp, '\\n')\n",
    "        incremental_dataframes.append(file_dataframe)\n",
    "\n",
    "\n",
    "    print('\\n\\nCeased Data Loading of Incremental Files at', timestamp(),'\\n\\n') \n",
    "\n",
    "    incremental_files_dataframe = pandas.concat(incremental_dataframes, ignore_index = True)\n",
    "    \n",
    "    return incremental_files_dataframe"
   ]
  },
  {
   "cell_type": "markdown",
   "id": "d529282a-8cd8-4d92-8b5b-e0005c90a626",
   "metadata": {
    "tags": []
   },
   "source": [
    "#### "
   ]
  },
  {
   "cell_type": "markdown",
   "id": "88aaf6ce-1272-4099-bd0b-84db260ff664",
   "metadata": {},
   "source": [
    "#### Priming DataFrames"
   ]
  },
  {
   "cell_type": "code",
   "execution_count": 15,
   "id": "fdbddfce-e356-4d4e-a504-bb0ce1dc7a91",
   "metadata": {},
   "outputs": [],
   "source": [
    "def memberid_to_two_columns(memberid_value):\n",
    "    member_id_value = memberid_value[:-2]\n",
    "    personcode_value = memberid_value[-2:]\n",
    "    return (member_id_value, personcode_value)"
   ]
  },
  {
   "cell_type": "code",
   "execution_count": 16,
   "id": "8d7e976a-912e-43c4-9613-3c2b86772257",
   "metadata": {},
   "outputs": [],
   "source": [
    "def row_contains_discrepancy(row, column_pairs_to_compare_within):    \n",
    "    return any([(row[column_left] != row[column_right]) for (column_left, column_right) in column_pairs_to_compare_within])"
   ]
  },
  {
   "cell_type": "code",
   "execution_count": 17,
   "id": "f0f120e1-ef6c-466d-9de7-3ef10cfee80f",
   "metadata": {},
   "outputs": [],
   "source": [
    "def shift_columns_to_front(dataframe, columns_names): \n",
    "    output_dataframe = dataframe.copy(deep = True)\n",
    "    \n",
    "    for column_name in reversed(columns_names):  \n",
    "        column = output_dataframe.pop(column_name)\n",
    "        output_dataframe.insert(0, column_name, column)\n",
    "    \n",
    "    return output_dataframe"
   ]
  },
  {
   "cell_type": "markdown",
   "id": "986cf96d-11c7-4665-a036-bf600ecc915d",
   "metadata": {},
   "source": [
    "####"
   ]
  },
  {
   "cell_type": "markdown",
   "id": "c6c5b5a5-2fb9-4447-948b-7e249580a7c6",
   "metadata": {},
   "source": [
    "### my_"
   ]
  },
  {
   "cell_type": "code",
   "execution_count": 18,
   "id": "de816d82-3ff1-4c48-ae67-177de764de8b",
   "metadata": {},
   "outputs": [],
   "source": [
    "def my_index(index):\n",
    "\n",
    "    if (index >= 1):    \n",
    "        return (index - 1)\n",
    "    \n",
    "    elif (index == 0):        \n",
    "        raise IndexError('Index cannot be 0')\n",
    "    \n",
    "    elif (index <= -1):\n",
    "        return index"
   ]
  },
  {
   "cell_type": "code",
   "execution_count": 19,
   "id": "a48c762a-5461-4b9a-9749-65ade7334d04",
   "metadata": {},
   "outputs": [],
   "source": [
    "def my_range(start, stop, step):\n",
    "    return range(start, (stop + 1), step)"
   ]
  },
  {
   "cell_type": "code",
   "execution_count": 20,
   "id": "d056ca3a-2bf1-4b9c-aaf1-795dc02e5cee",
   "metadata": {},
   "outputs": [],
   "source": [
    "def my_flatten(list_of_lists):\n",
    "    return [element for list in list_of_lists for element in list]"
   ]
  },
  {
   "cell_type": "code",
   "execution_count": 21,
   "id": "d68653a6-b496-4f4d-8b75-3809c0156469",
   "metadata": {},
   "outputs": [],
   "source": [
    "def my_unique(list):\n",
    "    unique = []\n",
    "    for element in list:\n",
    "        if element not in unique:\n",
    "            unique.append(element)\n",
    "    return unique"
   ]
  },
  {
   "cell_type": "code",
   "execution_count": 22,
   "id": "6871a702-12ac-4a6b-8cd8-6136535bb0be",
   "metadata": {},
   "outputs": [],
   "source": [
    "def my_pop(list):\n",
    "    if len(list) == 0:\n",
    "        output = None\n",
    "    else:\n",
    "        output = list.pop()\n",
    "    return output"
   ]
  },
  {
   "cell_type": "markdown",
   "id": "6e54e6f5-a9c0-4eea-b7dd-872c8003cb59",
   "metadata": {},
   "source": [
    "#### "
   ]
  },
  {
   "cell_type": "markdown",
   "id": "1ec1e4ed-26b5-47e1-927a-f1186e9071f8",
   "metadata": {
    "tags": []
   },
   "source": [
    "# #Captain"
   ]
  },
  {
   "cell_type": "code",
   "execution_count": 24,
   "id": "a7090298-1a47-4c8b-8562-6bfa8f881d54",
   "metadata": {},
   "outputs": [],
   "source": [
    "sample_playlist_vector = [2.2, 0.8, 0.7, 2.7, 0.0, 7.2, 11.63, 9.9]"
   ]
  },
  {
   "cell_type": "code",
   "execution_count": 26,
   "id": "63b61a8a-4327-42b1-acfd-bb5b676373bc",
   "metadata": {},
   "outputs": [],
   "source": [
    "import sklearn"
   ]
  },
  {
   "cell_type": "code",
   "execution_count": 27,
   "id": "e01c890c-206e-4563-abbd-8aa1a0de0f98",
   "metadata": {},
   "outputs": [],
   "source": [
    "def recommend_similar_playlist(playlist_dataframe, playlist_features_vector, songpool_features_dataframe, number = 20): \n",
    "    # ensure songpool does not contain the songs present within the input playlist\n",
    "    \n",
    "    songpool_features_dataframe = playlist_dataframe[playlist_dataframe['id'].isin(songpool_features_dataframe['id'].values)]\n",
    "    \n",
    "    # utilize cosine similarity metric between the playlist and the complete song set\n",
    "    songpool_features_dataframe['Similarity'] = sklearn.cosine_similarity(songpool_features_dataframe.drop('id', axis = 1).values, playlist_features_vector.values.reshape(1, -1))[:,0]\n",
    "    output = songpool_features_dataframe.sort_values('Similarity',ascending = False).head(number)\n",
    "    \n",
    "    return output"
   ]
  },
  {
   "cell_type": "code",
   "execution_count": null,
   "id": "0cbdb832-7818-4ef4-80c2-0deb00f3340f",
   "metadata": {},
   "outputs": [],
   "source": []
  },
  {
   "cell_type": "code",
   "execution_count": null,
   "id": "3d074c4d-45b1-44fa-9405-2f9bfe7e7d34",
   "metadata": {},
   "outputs": [],
   "source": []
  },
  {
   "cell_type": "code",
   "execution_count": null,
   "id": "0c400150-836e-47be-a5de-4b91ae5519e7",
   "metadata": {},
   "outputs": [],
   "source": []
  },
  {
   "cell_type": "code",
   "execution_count": null,
   "id": "1d604c3a-ca13-4bd9-9f94-1878c341ae35",
   "metadata": {},
   "outputs": [],
   "source": []
  },
  {
   "cell_type": "code",
   "execution_count": null,
   "id": "09b69161-6ccf-443c-be32-e3dd02460a8e",
   "metadata": {},
   "outputs": [],
   "source": []
  },
  {
   "cell_type": "code",
   "execution_count": null,
   "id": "cadcf428-01ba-41d8-8dbd-7b344b6d421d",
   "metadata": {},
   "outputs": [],
   "source": []
  },
  {
   "cell_type": "code",
   "execution_count": null,
   "id": "b77f4f17-10ac-46b3-8446-4b9e5a7ae2a0",
   "metadata": {},
   "outputs": [],
   "source": []
  },
  {
   "cell_type": "code",
   "execution_count": null,
   "id": "eab1a46d-622a-4136-baee-430895cc5c4b",
   "metadata": {},
   "outputs": [],
   "source": []
  },
  {
   "cell_type": "code",
   "execution_count": null,
   "id": "601959ed-5ddb-4718-9dba-5578ebcbdacd",
   "metadata": {},
   "outputs": [],
   "source": []
  }
 ],
 "metadata": {
  "kernelspec": {
   "display_name": "Python 3 (ipykernel)",
   "language": "python",
   "name": "python3"
  },
  "language_info": {
   "codemirror_mode": {
    "name": "ipython",
    "version": 3
   },
   "file_extension": ".py",
   "mimetype": "text/x-python",
   "name": "python",
   "nbconvert_exporter": "python",
   "pygments_lexer": "ipython3",
   "version": "3.9.12"
  }
 },
 "nbformat": 4,
 "nbformat_minor": 5
}
